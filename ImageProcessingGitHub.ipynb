{
  "nbformat": 4,
  "nbformat_minor": 0,
  "metadata": {
    "colab": {
      "provenance": [],
      "authorship_tag": "ABX9TyOIy9x242zd3yxWLp7pwwHf",
      "include_colab_link": true
    },
    "kernelspec": {
      "name": "python3",
      "display_name": "Python 3"
    },
    "language_info": {
      "name": "python"
    }
  },
  "cells": [
    {
      "cell_type": "markdown",
      "metadata": {
        "id": "view-in-github",
        "colab_type": "text"
      },
      "source": [
        "<a href=\"https://colab.research.google.com/github/dmmdanielg/ImageProcessingColab/blob/main/ImageProcessingGitHub.ipynb\" target=\"_parent\"><img src=\"https://colab.research.google.com/assets/colab-badge.svg\" alt=\"Open In Colab\"/></a>"
      ]
    },
    {
      "cell_type": "code",
      "execution_count": null,
      "metadata": {
        "id": "v2M1AwTtp5g-",
        "colab": {
          "base_uri": "https://localhost:8080/"
        },
        "outputId": "7669ef99-86f4-4779-ff2b-05dca81c2ad1"
      },
      "outputs": [
        {
          "output_type": "stream",
          "name": "stdout",
          "text": [
            "cores 2\n"
          ]
        },
        {
          "output_type": "stream",
          "name": "stderr",
          "text": [
            "WARNING:jax._src.lib.xla_bridge:No GPU/TPU found, falling back to CPU. (Set TF_CPP_MIN_LOG_LEVEL=0 and rerun for more info.)\n"
          ]
        },
        {
          "output_type": "stream",
          "name": "stdout",
          "text": [
            "device_count 10\n",
            "devices [CpuDevice(id=0), CpuDevice(id=1), CpuDevice(id=2), CpuDevice(id=3), CpuDevice(id=4), CpuDevice(id=5), CpuDevice(id=6), CpuDevice(id=7), CpuDevice(id=8), CpuDevice(id=9)]\n",
            "1.16 s ± 636 ms per loop (mean ± std. dev. of 5 runs, 10 loops each)\n"
          ]
        }
      ],
      "source": [
        "import multiprocessing\n",
        "\n",
        "cores = multiprocessing.cpu_count() # Count the number of cores in a computer\n",
        "print('cores', cores)\n",
        "\n",
        "import os\n",
        "os.environ['XLA_FLAGS'] = \"--xla_force_host_platform_device_count=10\"\n",
        "\n",
        "import jax.numpy as jnp\n",
        "import numpy as np\n",
        "from jax import grad, jit, vmap, pmap, random, block_until_ready, config\n",
        "from jax.lib import xla_bridge\n",
        "from jax.scipy.signal import convolve2d as convolve2d_jax\n",
        "from jax.config import config\n",
        "from scipy.signal import convolve2d\n",
        "from matplotlib import pyplot as plt\n",
        "from functools import partial\n",
        "from jax.numpy.fft import fft2 as jfft2\n",
        "from jax.numpy.fft import ifft2 as jifft2\n",
        "from jax.numpy.fft import fftshift as jfftshift\n",
        "from jax.numpy.fft import rfft2 as jrfft2\n",
        "from jax.numpy.fft import irfft2 as jrifft2\n",
        "from scipy.fft import rfft2, irfft2, fftshift, fft2, ifft2\n",
        "\n",
        "import time\n",
        "from dataclasses import dataclass\n",
        "from jax import device_count, devices\n",
        "config.update(\"jax_enable_x64\", True)\n",
        "print('device_count', device_count())\n",
        "print('devices', devices())\n",
        "\n",
        "\n",
        "\n",
        "\n",
        "def processImage(image, alpha , beta, array1, array2):\n",
        "    \n",
        "    mean  = np.mean(image)\n",
        "    \n",
        "    i = np.arange(0,image.shape[0])\n",
        "    var1 = (i * np.exp(alpha) +  beta*beta*(beta + (i - 30)) + image[i,i]*0.1)*mean\n",
        "    var2 = np.matmul(array1, array2.T) + np.matmul(array1, (array2*array2*(array2+array1)).T)\n",
        "    \n",
        "    sol = np.sum(np.diagonal(var2) * np.sum(var1))\n",
        "        \n",
        "    kernel = sol * np.fromfunction(lambda i ,j: (1+i)*(1+j), (5,5), dtype=int)\n",
        "    kernel2 = kernel/np.max(kernel)\n",
        "\n",
        "    image_spectrum = rfft2(image, s = image.shape)\n",
        "    kernel_spectrum = rfft2(kernel2, s = image.shape)\n",
        "    filtered_spectrum = image_spectrum * kernel_spectrum\n",
        "    return irfft2(filtered_spectrum)\n",
        "\n",
        "@jit\n",
        "def processImage_jax(image, alpha, beta, array1, array2):\n",
        "    \n",
        "    mean  = jnp.mean(image)\n",
        "        \n",
        "    i = jnp.arange(0,image.shape[0])\n",
        "    var1 = (i * jnp.exp(alpha) +  beta*beta*(beta + (i - 30)) + image[i,i]*0.1)*mean    \n",
        "    var2 = jnp.matmul(array1, array2.T) + jnp.matmul(array1, (array2*array2*(array2+array1)).T)\n",
        "    \n",
        "    sol = jnp.sum(jnp.diagonal(var2) * jnp.sum(var1))\n",
        "        \n",
        "    kernel = sol * np.fromfunction(lambda i ,j: (1+i)*(1+j), (5,5), dtype=int)\n",
        "    kernel2 = kernel/np.max(kernel)\n",
        "    \n",
        "    image_spectrum = jrfft2(image, s = image.shape)\n",
        "    kernel_spectrum = jrfft2(kernel2, s = image.shape)\n",
        "    filtered_spectrum = image_spectrum * kernel_spectrum\n",
        "    return jrifft2(filtered_spectrum)\n",
        "        \n",
        "def processImage_batch_jax(batch_images, alpha, beta, array1, array2):\n",
        "    \n",
        "    image_results = np.zeros((batch_images.shape[0],batch_images.shape[1],batch_images.shape[2]))\n",
        "    for i in range(batch_images.shape[0]):\n",
        "        image_results[i,:,:] = processImage_jax(batch_images[i,:,:], alpha, beta, array1, array2)\n",
        "        \n",
        "    return image_results\n",
        "        \n",
        "def processImage_batch(batch_images, alpha, beta, array1, array2):\n",
        "    \n",
        "    image_results = np.zeros((batch_images.shape[0],batch_images.shape[1],batch_images.shape[2]))\n",
        "    for i in range(batch_images.shape[0]):\n",
        "        image_results[i,:,:] = processImage(batch_images[i,:,:], alpha, beta, array1, array2)\n",
        "        \n",
        "    return image_results\n",
        "\n",
        "np.random.seed(5)\n",
        "image = (np.random.rand(1000,1000))\n",
        "batch_images = ((np.random.rand(40,500,500)))\n",
        "batch_images_pmap = np.reshape(batch_images,(10,4,500,500))\n",
        "\n",
        "array1 = (np.random.rand(100,1000))\n",
        "array2 = (np.random.rand(100,1000))\n",
        "\n",
        "process_image_jax_vmap = vmap(processImage_jax, in_axes = (0,None,None,None,None))\n",
        "process_image_jax_vmap_jit = jit(process_image_jax_vmap)\n",
        "process_image_jax_pmap = pmap(process_image_jax_vmap, in_axes = (0,None,None,None,None))\n",
        "\n",
        "%timeit -n 7 -r 5 processImage_batch_jax(batch_images, 0.5, 0.3, array1, array2)\n",
        "%timeit -n 7 -r 3 processImage_batch(batch_images, 0.5, 0.3, array1, array2)\n",
        "%timeit -n 7 -r 5 process_image_jax_vmap_jit(batch_images, 0.5, 0.3, array1, array2).block_until_ready()\n",
        "%timeit -n 7 -r 5 process_image_jax_vmap(batch_images, 0.5, 0.3, array1, array2).block_until_ready()\n",
        "%timeit -n 7 -r 5 process_image_jax_pmap(batch_images_pmap, 0.5, 0.3, array1, array2).block_until_ready()\n",
        "\n",
        "batch_images_results = processImage_batch(batch_images, 0.5, 0.3, array1, array2)\n",
        "\n",
        "batch_images_results_vmap_jax= process_image_jax_vmap_jit(batch_images, 0.5, 0.3, array1, array2)\n",
        "batch_images_results_jax = processImage_batch_jax(batch_images, 0.5, 0.3, array1, array2)\n",
        "batch_images_results_numpy = processImage_batch(batch_images, 0.5, 0.3, array1, array2)\n",
        "batch_images_results_jax_2 = process_image_jax_pmap(batch_images_pmap, 0.5, 0.3, array1, array2)\n",
        "batch_images_results_jax_2 = np.vstack(batch_images_results_jax_2)\n",
        "\n",
        "print(np.allclose(batch_images_results_vmap_jax,batch_images_results))\n",
        "print(np.allclose(batch_images_results_jax_2,batch_images_results))\n",
        "\n"
      ]
    }
  ]
}